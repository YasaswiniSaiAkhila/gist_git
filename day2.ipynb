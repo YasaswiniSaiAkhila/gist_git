{
 "cells": [
  {
   "cell_type": "markdown",
   "metadata": {},
   "source": [
    "## python libraries\n"
   ]
  },
  {
   "cell_type": "markdown",
   "metadata": {},
   "source": [
    "### create 1d array"
   ]
  },
  {
   "cell_type": "code",
   "execution_count": 16,
   "metadata": {},
   "outputs": [
    {
     "name": "stdout",
     "output_type": "stream",
     "text": [
      "[1 2 3]\n",
      "<class 'numpy.ndarray'>\n"
     ]
    }
   ],
   "source": [
    "import numpy as np\n",
    "x=np.array([1,2,3])\n",
    "print(x)\n",
    "print(type(x))"
   ]
  },
  {
   "cell_type": "markdown",
   "metadata": {},
   "source": [
    "### create 2d array"
   ]
  },
  {
   "cell_type": "code",
   "execution_count": 27,
   "metadata": {},
   "outputs": [
    {
     "name": "stdout",
     "output_type": "stream",
     "text": [
      "[[1 2 3]\n",
      " [1 2 3]]\n"
     ]
    }
   ],
   "source": [
    "y=np.array([[1,2,3],[1,2,3]])\n",
    "print(y)"
   ]
  },
  {
   "cell_type": "code",
   "execution_count": 40,
   "metadata": {},
   "outputs": [
    {
     "name": "stdout",
     "output_type": "stream",
     "text": [
      "[[1 2 3]\n",
      " [1 2 3]\n",
      " [1 2 3]]\n"
     ]
    }
   ],
   "source": [
    "a=[[1,2,3],[1,2,3],[1,2,3]]\n",
    "s=np.array(a)\n",
    "print(s)"
   ]
  },
  {
   "cell_type": "code",
   "execution_count": 44,
   "metadata": {},
   "outputs": [
    {
     "data": {
      "text/plain": [
       "2"
      ]
     },
     "execution_count": 44,
     "metadata": {},
     "output_type": "execute_result"
    }
   ],
   "source": [
    "s.ndim"
   ]
  },
  {
   "cell_type": "code",
   "execution_count": 45,
   "metadata": {},
   "outputs": [
    {
     "data": {
      "text/plain": [
       "(3, 3)"
      ]
     },
     "execution_count": 45,
     "metadata": {},
     "output_type": "execute_result"
    }
   ],
   "source": [
    "s.shape"
   ]
  },
  {
   "cell_type": "markdown",
   "metadata": {},
   "source": [
    "### create 3d array"
   ]
  },
  {
   "cell_type": "code",
   "execution_count": 48,
   "metadata": {},
   "outputs": [
    {
     "name": "stdout",
     "output_type": "stream",
     "text": [
      "[[[1 2]\n",
      "  [2 2]\n",
      "  [1 3]]\n",
      "\n",
      " [[1 1]\n",
      "  [2 3]\n",
      "  [3 4]]]\n"
     ]
    }
   ],
   "source": [
    "z=np.array([[[1,2],[2,2],[1,3]],[[1,1],[2,3],[3,4]]])\n",
    "print(z)"
   ]
  },
  {
   "cell_type": "code",
   "execution_count": 50,
   "metadata": {},
   "outputs": [
    {
     "name": "stdout",
     "output_type": "stream",
     "text": [
      "[[1 2]\n",
      " [2 2]\n",
      " [1 3]]\n"
     ]
    }
   ],
   "source": [
    "print(z[0])"
   ]
  },
  {
   "cell_type": "code",
   "execution_count": 51,
   "metadata": {},
   "outputs": [
    {
     "name": "stdout",
     "output_type": "stream",
     "text": [
      "[1 2]\n"
     ]
    }
   ],
   "source": [
    "print(z[0][0])"
   ]
  },
  {
   "cell_type": "code",
   "execution_count": 52,
   "metadata": {},
   "outputs": [
    {
     "data": {
      "text/plain": [
       "1"
      ]
     },
     "execution_count": 52,
     "metadata": {},
     "output_type": "execute_result"
    }
   ],
   "source": [
    "z[0][0][0]"
   ]
  },
  {
   "cell_type": "code",
   "execution_count": 53,
   "metadata": {},
   "outputs": [
    {
     "data": {
      "text/plain": [
       "array([[1, 1],\n",
       "       [2, 3],\n",
       "       [3, 4]])"
      ]
     },
     "execution_count": 53,
     "metadata": {},
     "output_type": "execute_result"
    }
   ],
   "source": [
    "z[1]"
   ]
  },
  {
   "cell_type": "code",
   "execution_count": 54,
   "metadata": {},
   "outputs": [
    {
     "data": {
      "text/plain": [
       "3"
      ]
     },
     "execution_count": 54,
     "metadata": {},
     "output_type": "execute_result"
    }
   ],
   "source": [
    "z.ndim"
   ]
  },
  {
   "cell_type": "code",
   "execution_count": 49,
   "metadata": {},
   "outputs": [
    {
     "data": {
      "text/plain": [
       "(2, 3, 2)"
      ]
     },
     "execution_count": 49,
     "metadata": {},
     "output_type": "execute_result"
    }
   ],
   "source": [
    "z.shape"
   ]
  },
  {
   "cell_type": "code",
   "execution_count": 55,
   "metadata": {},
   "outputs": [
    {
     "data": {
      "text/plain": [
       "12"
      ]
     },
     "execution_count": 55,
     "metadata": {},
     "output_type": "execute_result"
    }
   ],
   "source": [
    "z.size"
   ]
  },
  {
   "cell_type": "markdown",
   "metadata": {},
   "source": [
    "### complex values"
   ]
  },
  {
   "cell_type": "code",
   "execution_count": 56,
   "metadata": {},
   "outputs": [
    {
     "name": "stdout",
     "output_type": "stream",
     "text": [
      "[1.+0.j 2.+0.j 3.+0.j]\n"
     ]
    }
   ],
   "source": [
    "p=np.array([1,2,3],dtype=complex)\n",
    "print(p)"
   ]
  },
  {
   "cell_type": "code",
   "execution_count": 57,
   "metadata": {},
   "outputs": [
    {
     "name": "stdout",
     "output_type": "stream",
     "text": [
      "[[1, 2, 3], [1, 2, 3]]\n"
     ]
    }
   ],
   "source": [
    "a=[[1,2,3],[1,2,3]]\n",
    "print(a)"
   ]
  },
  {
   "cell_type": "markdown",
   "metadata": {},
   "source": [
    "### array slicing"
   ]
  },
  {
   "cell_type": "code",
   "execution_count": 61,
   "metadata": {},
   "outputs": [
    {
     "data": {
      "text/plain": [
       "array([0, 1, 2, 3, 4, 5, 6, 7, 8, 9])"
      ]
     },
     "execution_count": 61,
     "metadata": {},
     "output_type": "execute_result"
    }
   ],
   "source": [
    "x=np.arange(10)\n",
    "x"
   ]
  },
  {
   "cell_type": "code",
   "execution_count": 66,
   "metadata": {},
   "outputs": [
    {
     "name": "stdout",
     "output_type": "stream",
     "text": [
      "[0 1 2 3 4]\n"
     ]
    }
   ],
   "source": [
    "print(x[0:5])"
   ]
  },
  {
   "cell_type": "code",
   "execution_count": 69,
   "metadata": {},
   "outputs": [
    {
     "data": {
      "text/plain": [
       "array([0, 2, 4])"
      ]
     },
     "execution_count": 69,
     "metadata": {},
     "output_type": "execute_result"
    }
   ],
   "source": [
    "x[:6:2]"
   ]
  },
  {
   "cell_type": "code",
   "execution_count": 70,
   "metadata": {},
   "outputs": [
    {
     "data": {
      "text/plain": [
       "array([9, 8, 7, 6, 5, 4, 3, 2, 1, 0])"
      ]
     },
     "execution_count": 70,
     "metadata": {},
     "output_type": "execute_result"
    }
   ],
   "source": [
    "x[::-1]"
   ]
  },
  {
   "cell_type": "code",
   "execution_count": 71,
   "metadata": {},
   "outputs": [
    {
     "data": {
      "text/plain": [
       "array([5, 3, 1])"
      ]
     },
     "execution_count": 71,
     "metadata": {},
     "output_type": "execute_result"
    }
   ],
   "source": [
    "x[5::-2]"
   ]
  },
  {
   "cell_type": "markdown",
   "metadata": {},
   "source": [
    "### reshaping of arrays"
   ]
  },
  {
   "cell_type": "code",
   "execution_count": 76,
   "metadata": {},
   "outputs": [
    {
     "name": "stdout",
     "output_type": "stream",
     "text": [
      "[[[1 2]\n",
      "  [3 4]]\n",
      "\n",
      " [[5 6]\n",
      "  [7 8]]]\n"
     ]
    }
   ],
   "source": [
    "s=np.arange(1,9).reshape(2,2,2)\n",
    "print(s)"
   ]
  },
  {
   "cell_type": "markdown",
   "metadata": {},
   "source": [
    "### concatination of arrays"
   ]
  },
  {
   "cell_type": "code",
   "execution_count": 78,
   "metadata": {},
   "outputs": [
    {
     "name": "stdout",
     "output_type": "stream",
     "text": [
      "[1 2 3 4 3 2]\n"
     ]
    }
   ],
   "source": [
    "x=np.array([1,2,3])\n",
    "y=np.array([4,3,2])\n",
    "z=np.concatenate([x,y])\n",
    "print(z)"
   ]
  },
  {
   "cell_type": "code",
   "execution_count": 79,
   "metadata": {},
   "outputs": [
    {
     "data": {
      "text/plain": [
       "5"
      ]
     },
     "execution_count": 79,
     "metadata": {},
     "output_type": "execute_result"
    }
   ],
   "source": [
    "z[1]+z[2]"
   ]
  },
  {
   "cell_type": "markdown",
   "metadata": {},
   "source": [
    "### spliting of arrays"
   ]
  },
  {
   "cell_type": "code",
   "execution_count": 80,
   "metadata": {},
   "outputs": [
    {
     "name": "stdout",
     "output_type": "stream",
     "text": [
      "[1 2 3]\n",
      "[4 3 2]\n"
     ]
    }
   ],
   "source": [
    "a,b=np.split(z,[3])\n",
    "print(a)\n",
    "print(b)"
   ]
  },
  {
   "cell_type": "markdown",
   "metadata": {},
   "source": [
    "## task"
   ]
  },
  {
   "cell_type": "code",
   "execution_count": 87,
   "metadata": {},
   "outputs": [
    {
     "data": {
      "text/plain": [
       "array([[ 0,  1,  2,  3],\n",
       "       [ 4,  5,  6,  7],\n",
       "       [ 8,  9, 10, 11],\n",
       "       [12, 13, 14, 15]])"
      ]
     },
     "execution_count": 87,
     "metadata": {},
     "output_type": "execute_result"
    }
   ],
   "source": [
    "a=np.arange(0,16).reshape(4,4)\n",
    "a"
   ]
  },
  {
   "cell_type": "code",
   "execution_count": 89,
   "metadata": {},
   "outputs": [
    {
     "data": {
      "text/plain": [
       "array([   0,    1,    2, ..., 9997, 9998, 9999])"
      ]
     },
     "execution_count": 89,
     "metadata": {},
     "output_type": "execute_result"
    }
   ],
   "source": [
    "a=np.arange(10000)\n",
    "a"
   ]
  },
  {
   "cell_type": "code",
   "execution_count": 90,
   "metadata": {},
   "outputs": [
    {
     "data": {
      "text/plain": [
       "array([[   0,    1,    2, ...,   97,   98,   99],\n",
       "       [ 100,  101,  102, ...,  197,  198,  199],\n",
       "       [ 200,  201,  202, ...,  297,  298,  299],\n",
       "       ...,\n",
       "       [9700, 9701, 9702, ..., 9797, 9798, 9799],\n",
       "       [9800, 9801, 9802, ..., 9897, 9898, 9899],\n",
       "       [9900, 9901, 9902, ..., 9997, 9998, 9999]])"
      ]
     },
     "execution_count": 90,
     "metadata": {},
     "output_type": "execute_result"
    }
   ],
   "source": [
    "a.reshape(100,100)"
   ]
  },
  {
   "cell_type": "code",
   "execution_count": 91,
   "metadata": {},
   "outputs": [
    {
     "data": {
      "text/plain": [
       "array([[[[   0,    1,    2, ...,    7,    8,    9],\n",
       "         [  10,   11,   12, ...,   17,   18,   19],\n",
       "         [  20,   21,   22, ...,   27,   28,   29],\n",
       "         ...,\n",
       "         [  70,   71,   72, ...,   77,   78,   79],\n",
       "         [  80,   81,   82, ...,   87,   88,   89],\n",
       "         [  90,   91,   92, ...,   97,   98,   99]],\n",
       "\n",
       "        [[ 100,  101,  102, ...,  107,  108,  109],\n",
       "         [ 110,  111,  112, ...,  117,  118,  119],\n",
       "         [ 120,  121,  122, ...,  127,  128,  129],\n",
       "         ...,\n",
       "         [ 170,  171,  172, ...,  177,  178,  179],\n",
       "         [ 180,  181,  182, ...,  187,  188,  189],\n",
       "         [ 190,  191,  192, ...,  197,  198,  199]],\n",
       "\n",
       "        [[ 200,  201,  202, ...,  207,  208,  209],\n",
       "         [ 210,  211,  212, ...,  217,  218,  219],\n",
       "         [ 220,  221,  222, ...,  227,  228,  229],\n",
       "         ...,\n",
       "         [ 270,  271,  272, ...,  277,  278,  279],\n",
       "         [ 280,  281,  282, ...,  287,  288,  289],\n",
       "         [ 290,  291,  292, ...,  297,  298,  299]],\n",
       "\n",
       "        ...,\n",
       "\n",
       "        [[ 700,  701,  702, ...,  707,  708,  709],\n",
       "         [ 710,  711,  712, ...,  717,  718,  719],\n",
       "         [ 720,  721,  722, ...,  727,  728,  729],\n",
       "         ...,\n",
       "         [ 770,  771,  772, ...,  777,  778,  779],\n",
       "         [ 780,  781,  782, ...,  787,  788,  789],\n",
       "         [ 790,  791,  792, ...,  797,  798,  799]],\n",
       "\n",
       "        [[ 800,  801,  802, ...,  807,  808,  809],\n",
       "         [ 810,  811,  812, ...,  817,  818,  819],\n",
       "         [ 820,  821,  822, ...,  827,  828,  829],\n",
       "         ...,\n",
       "         [ 870,  871,  872, ...,  877,  878,  879],\n",
       "         [ 880,  881,  882, ...,  887,  888,  889],\n",
       "         [ 890,  891,  892, ...,  897,  898,  899]],\n",
       "\n",
       "        [[ 900,  901,  902, ...,  907,  908,  909],\n",
       "         [ 910,  911,  912, ...,  917,  918,  919],\n",
       "         [ 920,  921,  922, ...,  927,  928,  929],\n",
       "         ...,\n",
       "         [ 970,  971,  972, ...,  977,  978,  979],\n",
       "         [ 980,  981,  982, ...,  987,  988,  989],\n",
       "         [ 990,  991,  992, ...,  997,  998,  999]]],\n",
       "\n",
       "\n",
       "       [[[1000, 1001, 1002, ..., 1007, 1008, 1009],\n",
       "         [1010, 1011, 1012, ..., 1017, 1018, 1019],\n",
       "         [1020, 1021, 1022, ..., 1027, 1028, 1029],\n",
       "         ...,\n",
       "         [1070, 1071, 1072, ..., 1077, 1078, 1079],\n",
       "         [1080, 1081, 1082, ..., 1087, 1088, 1089],\n",
       "         [1090, 1091, 1092, ..., 1097, 1098, 1099]],\n",
       "\n",
       "        [[1100, 1101, 1102, ..., 1107, 1108, 1109],\n",
       "         [1110, 1111, 1112, ..., 1117, 1118, 1119],\n",
       "         [1120, 1121, 1122, ..., 1127, 1128, 1129],\n",
       "         ...,\n",
       "         [1170, 1171, 1172, ..., 1177, 1178, 1179],\n",
       "         [1180, 1181, 1182, ..., 1187, 1188, 1189],\n",
       "         [1190, 1191, 1192, ..., 1197, 1198, 1199]],\n",
       "\n",
       "        [[1200, 1201, 1202, ..., 1207, 1208, 1209],\n",
       "         [1210, 1211, 1212, ..., 1217, 1218, 1219],\n",
       "         [1220, 1221, 1222, ..., 1227, 1228, 1229],\n",
       "         ...,\n",
       "         [1270, 1271, 1272, ..., 1277, 1278, 1279],\n",
       "         [1280, 1281, 1282, ..., 1287, 1288, 1289],\n",
       "         [1290, 1291, 1292, ..., 1297, 1298, 1299]],\n",
       "\n",
       "        ...,\n",
       "\n",
       "        [[1700, 1701, 1702, ..., 1707, 1708, 1709],\n",
       "         [1710, 1711, 1712, ..., 1717, 1718, 1719],\n",
       "         [1720, 1721, 1722, ..., 1727, 1728, 1729],\n",
       "         ...,\n",
       "         [1770, 1771, 1772, ..., 1777, 1778, 1779],\n",
       "         [1780, 1781, 1782, ..., 1787, 1788, 1789],\n",
       "         [1790, 1791, 1792, ..., 1797, 1798, 1799]],\n",
       "\n",
       "        [[1800, 1801, 1802, ..., 1807, 1808, 1809],\n",
       "         [1810, 1811, 1812, ..., 1817, 1818, 1819],\n",
       "         [1820, 1821, 1822, ..., 1827, 1828, 1829],\n",
       "         ...,\n",
       "         [1870, 1871, 1872, ..., 1877, 1878, 1879],\n",
       "         [1880, 1881, 1882, ..., 1887, 1888, 1889],\n",
       "         [1890, 1891, 1892, ..., 1897, 1898, 1899]],\n",
       "\n",
       "        [[1900, 1901, 1902, ..., 1907, 1908, 1909],\n",
       "         [1910, 1911, 1912, ..., 1917, 1918, 1919],\n",
       "         [1920, 1921, 1922, ..., 1927, 1928, 1929],\n",
       "         ...,\n",
       "         [1970, 1971, 1972, ..., 1977, 1978, 1979],\n",
       "         [1980, 1981, 1982, ..., 1987, 1988, 1989],\n",
       "         [1990, 1991, 1992, ..., 1997, 1998, 1999]]],\n",
       "\n",
       "\n",
       "       [[[2000, 2001, 2002, ..., 2007, 2008, 2009],\n",
       "         [2010, 2011, 2012, ..., 2017, 2018, 2019],\n",
       "         [2020, 2021, 2022, ..., 2027, 2028, 2029],\n",
       "         ...,\n",
       "         [2070, 2071, 2072, ..., 2077, 2078, 2079],\n",
       "         [2080, 2081, 2082, ..., 2087, 2088, 2089],\n",
       "         [2090, 2091, 2092, ..., 2097, 2098, 2099]],\n",
       "\n",
       "        [[2100, 2101, 2102, ..., 2107, 2108, 2109],\n",
       "         [2110, 2111, 2112, ..., 2117, 2118, 2119],\n",
       "         [2120, 2121, 2122, ..., 2127, 2128, 2129],\n",
       "         ...,\n",
       "         [2170, 2171, 2172, ..., 2177, 2178, 2179],\n",
       "         [2180, 2181, 2182, ..., 2187, 2188, 2189],\n",
       "         [2190, 2191, 2192, ..., 2197, 2198, 2199]],\n",
       "\n",
       "        [[2200, 2201, 2202, ..., 2207, 2208, 2209],\n",
       "         [2210, 2211, 2212, ..., 2217, 2218, 2219],\n",
       "         [2220, 2221, 2222, ..., 2227, 2228, 2229],\n",
       "         ...,\n",
       "         [2270, 2271, 2272, ..., 2277, 2278, 2279],\n",
       "         [2280, 2281, 2282, ..., 2287, 2288, 2289],\n",
       "         [2290, 2291, 2292, ..., 2297, 2298, 2299]],\n",
       "\n",
       "        ...,\n",
       "\n",
       "        [[2700, 2701, 2702, ..., 2707, 2708, 2709],\n",
       "         [2710, 2711, 2712, ..., 2717, 2718, 2719],\n",
       "         [2720, 2721, 2722, ..., 2727, 2728, 2729],\n",
       "         ...,\n",
       "         [2770, 2771, 2772, ..., 2777, 2778, 2779],\n",
       "         [2780, 2781, 2782, ..., 2787, 2788, 2789],\n",
       "         [2790, 2791, 2792, ..., 2797, 2798, 2799]],\n",
       "\n",
       "        [[2800, 2801, 2802, ..., 2807, 2808, 2809],\n",
       "         [2810, 2811, 2812, ..., 2817, 2818, 2819],\n",
       "         [2820, 2821, 2822, ..., 2827, 2828, 2829],\n",
       "         ...,\n",
       "         [2870, 2871, 2872, ..., 2877, 2878, 2879],\n",
       "         [2880, 2881, 2882, ..., 2887, 2888, 2889],\n",
       "         [2890, 2891, 2892, ..., 2897, 2898, 2899]],\n",
       "\n",
       "        [[2900, 2901, 2902, ..., 2907, 2908, 2909],\n",
       "         [2910, 2911, 2912, ..., 2917, 2918, 2919],\n",
       "         [2920, 2921, 2922, ..., 2927, 2928, 2929],\n",
       "         ...,\n",
       "         [2970, 2971, 2972, ..., 2977, 2978, 2979],\n",
       "         [2980, 2981, 2982, ..., 2987, 2988, 2989],\n",
       "         [2990, 2991, 2992, ..., 2997, 2998, 2999]]],\n",
       "\n",
       "\n",
       "       ...,\n",
       "\n",
       "\n",
       "       [[[7000, 7001, 7002, ..., 7007, 7008, 7009],\n",
       "         [7010, 7011, 7012, ..., 7017, 7018, 7019],\n",
       "         [7020, 7021, 7022, ..., 7027, 7028, 7029],\n",
       "         ...,\n",
       "         [7070, 7071, 7072, ..., 7077, 7078, 7079],\n",
       "         [7080, 7081, 7082, ..., 7087, 7088, 7089],\n",
       "         [7090, 7091, 7092, ..., 7097, 7098, 7099]],\n",
       "\n",
       "        [[7100, 7101, 7102, ..., 7107, 7108, 7109],\n",
       "         [7110, 7111, 7112, ..., 7117, 7118, 7119],\n",
       "         [7120, 7121, 7122, ..., 7127, 7128, 7129],\n",
       "         ...,\n",
       "         [7170, 7171, 7172, ..., 7177, 7178, 7179],\n",
       "         [7180, 7181, 7182, ..., 7187, 7188, 7189],\n",
       "         [7190, 7191, 7192, ..., 7197, 7198, 7199]],\n",
       "\n",
       "        [[7200, 7201, 7202, ..., 7207, 7208, 7209],\n",
       "         [7210, 7211, 7212, ..., 7217, 7218, 7219],\n",
       "         [7220, 7221, 7222, ..., 7227, 7228, 7229],\n",
       "         ...,\n",
       "         [7270, 7271, 7272, ..., 7277, 7278, 7279],\n",
       "         [7280, 7281, 7282, ..., 7287, 7288, 7289],\n",
       "         [7290, 7291, 7292, ..., 7297, 7298, 7299]],\n",
       "\n",
       "        ...,\n",
       "\n",
       "        [[7700, 7701, 7702, ..., 7707, 7708, 7709],\n",
       "         [7710, 7711, 7712, ..., 7717, 7718, 7719],\n",
       "         [7720, 7721, 7722, ..., 7727, 7728, 7729],\n",
       "         ...,\n",
       "         [7770, 7771, 7772, ..., 7777, 7778, 7779],\n",
       "         [7780, 7781, 7782, ..., 7787, 7788, 7789],\n",
       "         [7790, 7791, 7792, ..., 7797, 7798, 7799]],\n",
       "\n",
       "        [[7800, 7801, 7802, ..., 7807, 7808, 7809],\n",
       "         [7810, 7811, 7812, ..., 7817, 7818, 7819],\n",
       "         [7820, 7821, 7822, ..., 7827, 7828, 7829],\n",
       "         ...,\n",
       "         [7870, 7871, 7872, ..., 7877, 7878, 7879],\n",
       "         [7880, 7881, 7882, ..., 7887, 7888, 7889],\n",
       "         [7890, 7891, 7892, ..., 7897, 7898, 7899]],\n",
       "\n",
       "        [[7900, 7901, 7902, ..., 7907, 7908, 7909],\n",
       "         [7910, 7911, 7912, ..., 7917, 7918, 7919],\n",
       "         [7920, 7921, 7922, ..., 7927, 7928, 7929],\n",
       "         ...,\n",
       "         [7970, 7971, 7972, ..., 7977, 7978, 7979],\n",
       "         [7980, 7981, 7982, ..., 7987, 7988, 7989],\n",
       "         [7990, 7991, 7992, ..., 7997, 7998, 7999]]],\n",
       "\n",
       "\n",
       "       [[[8000, 8001, 8002, ..., 8007, 8008, 8009],\n",
       "         [8010, 8011, 8012, ..., 8017, 8018, 8019],\n",
       "         [8020, 8021, 8022, ..., 8027, 8028, 8029],\n",
       "         ...,\n",
       "         [8070, 8071, 8072, ..., 8077, 8078, 8079],\n",
       "         [8080, 8081, 8082, ..., 8087, 8088, 8089],\n",
       "         [8090, 8091, 8092, ..., 8097, 8098, 8099]],\n",
       "\n",
       "        [[8100, 8101, 8102, ..., 8107, 8108, 8109],\n",
       "         [8110, 8111, 8112, ..., 8117, 8118, 8119],\n",
       "         [8120, 8121, 8122, ..., 8127, 8128, 8129],\n",
       "         ...,\n",
       "         [8170, 8171, 8172, ..., 8177, 8178, 8179],\n",
       "         [8180, 8181, 8182, ..., 8187, 8188, 8189],\n",
       "         [8190, 8191, 8192, ..., 8197, 8198, 8199]],\n",
       "\n",
       "        [[8200, 8201, 8202, ..., 8207, 8208, 8209],\n",
       "         [8210, 8211, 8212, ..., 8217, 8218, 8219],\n",
       "         [8220, 8221, 8222, ..., 8227, 8228, 8229],\n",
       "         ...,\n",
       "         [8270, 8271, 8272, ..., 8277, 8278, 8279],\n",
       "         [8280, 8281, 8282, ..., 8287, 8288, 8289],\n",
       "         [8290, 8291, 8292, ..., 8297, 8298, 8299]],\n",
       "\n",
       "        ...,\n",
       "\n",
       "        [[8700, 8701, 8702, ..., 8707, 8708, 8709],\n",
       "         [8710, 8711, 8712, ..., 8717, 8718, 8719],\n",
       "         [8720, 8721, 8722, ..., 8727, 8728, 8729],\n",
       "         ...,\n",
       "         [8770, 8771, 8772, ..., 8777, 8778, 8779],\n",
       "         [8780, 8781, 8782, ..., 8787, 8788, 8789],\n",
       "         [8790, 8791, 8792, ..., 8797, 8798, 8799]],\n",
       "\n",
       "        [[8800, 8801, 8802, ..., 8807, 8808, 8809],\n",
       "         [8810, 8811, 8812, ..., 8817, 8818, 8819],\n",
       "         [8820, 8821, 8822, ..., 8827, 8828, 8829],\n",
       "         ...,\n",
       "         [8870, 8871, 8872, ..., 8877, 8878, 8879],\n",
       "         [8880, 8881, 8882, ..., 8887, 8888, 8889],\n",
       "         [8890, 8891, 8892, ..., 8897, 8898, 8899]],\n",
       "\n",
       "        [[8900, 8901, 8902, ..., 8907, 8908, 8909],\n",
       "         [8910, 8911, 8912, ..., 8917, 8918, 8919],\n",
       "         [8920, 8921, 8922, ..., 8927, 8928, 8929],\n",
       "         ...,\n",
       "         [8970, 8971, 8972, ..., 8977, 8978, 8979],\n",
       "         [8980, 8981, 8982, ..., 8987, 8988, 8989],\n",
       "         [8990, 8991, 8992, ..., 8997, 8998, 8999]]],\n",
       "\n",
       "\n",
       "       [[[9000, 9001, 9002, ..., 9007, 9008, 9009],\n",
       "         [9010, 9011, 9012, ..., 9017, 9018, 9019],\n",
       "         [9020, 9021, 9022, ..., 9027, 9028, 9029],\n",
       "         ...,\n",
       "         [9070, 9071, 9072, ..., 9077, 9078, 9079],\n",
       "         [9080, 9081, 9082, ..., 9087, 9088, 9089],\n",
       "         [9090, 9091, 9092, ..., 9097, 9098, 9099]],\n",
       "\n",
       "        [[9100, 9101, 9102, ..., 9107, 9108, 9109],\n",
       "         [9110, 9111, 9112, ..., 9117, 9118, 9119],\n",
       "         [9120, 9121, 9122, ..., 9127, 9128, 9129],\n",
       "         ...,\n",
       "         [9170, 9171, 9172, ..., 9177, 9178, 9179],\n",
       "         [9180, 9181, 9182, ..., 9187, 9188, 9189],\n",
       "         [9190, 9191, 9192, ..., 9197, 9198, 9199]],\n",
       "\n",
       "        [[9200, 9201, 9202, ..., 9207, 9208, 9209],\n",
       "         [9210, 9211, 9212, ..., 9217, 9218, 9219],\n",
       "         [9220, 9221, 9222, ..., 9227, 9228, 9229],\n",
       "         ...,\n",
       "         [9270, 9271, 9272, ..., 9277, 9278, 9279],\n",
       "         [9280, 9281, 9282, ..., 9287, 9288, 9289],\n",
       "         [9290, 9291, 9292, ..., 9297, 9298, 9299]],\n",
       "\n",
       "        ...,\n",
       "\n",
       "        [[9700, 9701, 9702, ..., 9707, 9708, 9709],\n",
       "         [9710, 9711, 9712, ..., 9717, 9718, 9719],\n",
       "         [9720, 9721, 9722, ..., 9727, 9728, 9729],\n",
       "         ...,\n",
       "         [9770, 9771, 9772, ..., 9777, 9778, 9779],\n",
       "         [9780, 9781, 9782, ..., 9787, 9788, 9789],\n",
       "         [9790, 9791, 9792, ..., 9797, 9798, 9799]],\n",
       "\n",
       "        [[9800, 9801, 9802, ..., 9807, 9808, 9809],\n",
       "         [9810, 9811, 9812, ..., 9817, 9818, 9819],\n",
       "         [9820, 9821, 9822, ..., 9827, 9828, 9829],\n",
       "         ...,\n",
       "         [9870, 9871, 9872, ..., 9877, 9878, 9879],\n",
       "         [9880, 9881, 9882, ..., 9887, 9888, 9889],\n",
       "         [9890, 9891, 9892, ..., 9897, 9898, 9899]],\n",
       "\n",
       "        [[9900, 9901, 9902, ..., 9907, 9908, 9909],\n",
       "         [9910, 9911, 9912, ..., 9917, 9918, 9919],\n",
       "         [9920, 9921, 9922, ..., 9927, 9928, 9929],\n",
       "         ...,\n",
       "         [9970, 9971, 9972, ..., 9977, 9978, 9979],\n",
       "         [9980, 9981, 9982, ..., 9987, 9988, 9989],\n",
       "         [9990, 9991, 9992, ..., 9997, 9998, 9999]]]])"
      ]
     },
     "execution_count": 91,
     "metadata": {},
     "output_type": "execute_result"
    }
   ],
   "source": [
    "a.reshape(10,10,10,10)"
   ]
  },
  {
   "cell_type": "code",
   "execution_count": 119,
   "metadata": {},
   "outputs": [
    {
     "data": {
      "text/plain": [
       "array([[[1, 1, 1],\n",
       "        [1, 1, 1],\n",
       "        [1, 1, 1]],\n",
       "\n",
       "       [[1, 1, 1],\n",
       "        [1, 1, 1],\n",
       "        [1, 1, 1]],\n",
       "\n",
       "       [[1, 1, 1],\n",
       "        [1, 1, 1],\n",
       "        [1, 1, 1]]])"
      ]
     },
     "execution_count": 119,
     "metadata": {},
     "output_type": "execute_result"
    }
   ],
   "source": [
    "a=np.ones((3,3,3),int)\n",
    "a"
   ]
  },
  {
   "cell_type": "code",
   "execution_count": 120,
   "metadata": {},
   "outputs": [],
   "source": [
    "l=a-1"
   ]
  },
  {
   "cell_type": "code",
   "execution_count": 121,
   "metadata": {},
   "outputs": [
    {
     "data": {
      "text/plain": [
       "array([[[1, 1, 1],\n",
       "        [1, 1, 1],\n",
       "        [1, 1, 1]],\n",
       "\n",
       "       [[1, 1, 1],\n",
       "        [1, 1, 1],\n",
       "        [1, 1, 1]],\n",
       "\n",
       "       [[1, 1, 1],\n",
       "        [1, 1, 1],\n",
       "        [1, 1, 1]]])"
      ]
     },
     "execution_count": 121,
     "metadata": {},
     "output_type": "execute_result"
    }
   ],
   "source": [
    "a"
   ]
  },
  {
   "cell_type": "code",
   "execution_count": 122,
   "metadata": {},
   "outputs": [
    {
     "data": {
      "text/plain": [
       "array([[[0],\n",
       "        [0]],\n",
       "\n",
       "       [[0],\n",
       "        [0]],\n",
       "\n",
       "       [[0],\n",
       "        [0]]])"
      ]
     },
     "execution_count": 122,
     "metadata": {},
     "output_type": "execute_result"
    }
   ],
   "source": [
    "a=np.zeros((3,2,1),int,\"F\")\n",
    "a"
   ]
  },
  {
   "cell_type": "code",
   "execution_count": 123,
   "metadata": {},
   "outputs": [
    {
     "data": {
      "text/plain": [
       "array([[[1],\n",
       "        [1]],\n",
       "\n",
       "       [[1],\n",
       "        [1]],\n",
       "\n",
       "       [[1],\n",
       "        [1]]])"
      ]
     },
     "execution_count": 123,
     "metadata": {},
     "output_type": "execute_result"
    }
   ],
   "source": [
    "a=np.ones((3,2,1),int,\"C\")\n",
    "a"
   ]
  },
  {
   "cell_type": "code",
   "execution_count": 124,
   "metadata": {},
   "outputs": [
    {
     "name": "stdout",
     "output_type": "stream",
     "text": [
      "[[[1.]\n",
      "  [1.]]\n",
      "\n",
      " [[1.]\n",
      "  [1.]]\n",
      "\n",
      " [[1.]\n",
      "  [1.]]]\n"
     ]
    }
   ],
   "source": [
    "print(np.sqrt(a))"
   ]
  },
  {
   "cell_type": "code",
   "execution_count": 125,
   "metadata": {},
   "outputs": [
    {
     "name": "stdout",
     "output_type": "stream",
     "text": [
      "[[[0. 0. 0.]\n",
      "  [0. 0. 0.]\n",
      "  [0. 0. 0.]]\n",
      "\n",
      " [[0. 0. 0.]\n",
      "  [0. 0. 0.]\n",
      "  [0. 0. 0.]]\n",
      "\n",
      " [[0. 0. 0.]\n",
      "  [0. 0. 0.]\n",
      "  [0. 0. 0.]]]\n"
     ]
    }
   ],
   "source": [
    "print(np.sin(l))"
   ]
  },
  {
   "cell_type": "code",
   "execution_count": 126,
   "metadata": {},
   "outputs": [
    {
     "data": {
      "text/plain": [
       "array([[[0.84147098],\n",
       "        [0.84147098]],\n",
       "\n",
       "       [[0.84147098],\n",
       "        [0.84147098]],\n",
       "\n",
       "       [[0.84147098],\n",
       "        [0.84147098]]])"
      ]
     },
     "execution_count": 126,
     "metadata": {},
     "output_type": "execute_result"
    }
   ],
   "source": [
    "np.sin(a)"
   ]
  },
  {
   "cell_type": "code",
   "execution_count": 127,
   "metadata": {},
   "outputs": [
    {
     "data": {
      "text/plain": [
       "array([[[0.],\n",
       "        [0.]],\n",
       "\n",
       "       [[0.],\n",
       "        [0.]],\n",
       "\n",
       "       [[0.],\n",
       "        [0.]]])"
      ]
     },
     "execution_count": 127,
     "metadata": {},
     "output_type": "execute_result"
    }
   ],
   "source": [
    "np.log(a)"
   ]
  },
  {
   "cell_type": "code",
   "execution_count": 128,
   "metadata": {},
   "outputs": [],
   "source": [
    "x=np.random.rand(2,5)"
   ]
  },
  {
   "cell_type": "code",
   "execution_count": 129,
   "metadata": {},
   "outputs": [
    {
     "data": {
      "text/plain": [
       "array([[0.32567558, 0.46295774, 0.66693522, 0.51219163, 0.52030296],\n",
       "       [0.92956739, 0.67262274, 0.93286679, 0.40272219, 0.00287966]])"
      ]
     },
     "execution_count": 129,
     "metadata": {},
     "output_type": "execute_result"
    }
   ],
   "source": [
    "x"
   ]
  },
  {
   "cell_type": "code",
   "execution_count": 155,
   "metadata": {},
   "outputs": [],
   "source": [
    "x=np.random.randint(5,size=10)"
   ]
  },
  {
   "cell_type": "code",
   "execution_count": 150,
   "metadata": {},
   "outputs": [
    {
     "data": {
      "text/plain": [
       "array([2, 3, 4, 1, 0, 4, 1, 4, 2, 2])"
      ]
     },
     "execution_count": 150,
     "metadata": {},
     "output_type": "execute_result"
    }
   ],
   "source": [
    "x"
   ]
  },
  {
   "cell_type": "code",
   "execution_count": 156,
   "metadata": {},
   "outputs": [
    {
     "name": "stdout",
     "output_type": "stream",
     "text": [
      "['ALLOW_THREADS', 'AxisError', 'BUFSIZE', 'CLIP', 'ComplexWarning', 'DataSource', 'ERR_CALL', 'ERR_DEFAULT', 'ERR_IGNORE', 'ERR_LOG', 'ERR_PRINT', 'ERR_RAISE', 'ERR_WARN', 'FLOATING_POINT_SUPPORT', 'FPE_DIVIDEBYZERO', 'FPE_INVALID', 'FPE_OVERFLOW', 'FPE_UNDERFLOW', 'False_', 'Inf', 'Infinity', 'MAXDIMS', 'MAY_SHARE_BOUNDS', 'MAY_SHARE_EXACT', 'MachAr', 'ModuleDeprecationWarning', 'NAN', 'NINF', 'NZERO', 'NaN', 'PINF', 'PZERO', 'RAISE', 'RankWarning', 'SHIFT_DIVIDEBYZERO', 'SHIFT_INVALID', 'SHIFT_OVERFLOW', 'SHIFT_UNDERFLOW', 'ScalarType', 'Tester', 'TooHardError', 'True_', 'UFUNC_BUFSIZE_DEFAULT', 'UFUNC_PYVALS_NAME', 'VisibleDeprecationWarning', 'WRAP', '_NoValue', '_UFUNC_API', '__NUMPY_SETUP__', '__all__', '__builtins__', '__cached__', '__config__', '__dir__', '__doc__', '__file__', '__getattr__', '__git_revision__', '__loader__', '__mkl_version__', '__name__', '__package__', '__path__', '__spec__', '__version__', '_add_newdoc_ufunc', '_distributor_init', '_globals', '_mat', '_pytesttester', 'abs', 'absolute', 'add', 'add_docstring', 'add_newdoc', 'add_newdoc_ufunc', 'alen', 'all', 'allclose', 'alltrue', 'amax', 'amin', 'angle', 'any', 'append', 'apply_along_axis', 'apply_over_axes', 'arange', 'arccos', 'arccosh', 'arcsin', 'arcsinh', 'arctan', 'arctan2', 'arctanh', 'argmax', 'argmin', 'argpartition', 'argsort', 'argwhere', 'around', 'array', 'array2string', 'array_equal', 'array_equiv', 'array_repr', 'array_split', 'array_str', 'asanyarray', 'asarray', 'asarray_chkfinite', 'ascontiguousarray', 'asfarray', 'asfortranarray', 'asmatrix', 'asscalar', 'atleast_1d', 'atleast_2d', 'atleast_3d', 'average', 'bartlett', 'base_repr', 'binary_repr', 'bincount', 'bitwise_and', 'bitwise_not', 'bitwise_or', 'bitwise_xor', 'blackman', 'block', 'bmat', 'bool', 'bool8', 'bool_', 'broadcast', 'broadcast_arrays', 'broadcast_to', 'busday_count', 'busday_offset', 'busdaycalendar', 'byte', 'byte_bounds', 'bytes0', 'bytes_', 'c_', 'can_cast', 'cast', 'cbrt', 'cdouble', 'ceil', 'cfloat', 'char', 'character', 'chararray', 'choose', 'clip', 'clongdouble', 'clongfloat', 'column_stack', 'common_type', 'compare_chararrays', 'compat', 'complex', 'complex128', 'complex64', 'complex_', 'complexfloating', 'compress', 'concatenate', 'conj', 'conjugate', 'convolve', 'copy', 'copysign', 'copyto', 'core', 'corrcoef', 'correlate', 'cos', 'cosh', 'count_nonzero', 'cov', 'cross', 'csingle', 'ctypeslib', 'cumprod', 'cumproduct', 'cumsum', 'datetime64', 'datetime_as_string', 'datetime_data', 'deg2rad', 'degrees', 'delete', 'deprecate', 'deprecate_with_doc', 'diag', 'diag_indices', 'diag_indices_from', 'diagflat', 'diagonal', 'diff', 'digitize', 'disp', 'divide', 'divmod', 'dot', 'double', 'dsplit', 'dstack', 'dtype', 'e', 'ediff1d', 'einsum', 'einsum_path', 'emath', 'empty', 'empty_like', 'equal', 'errstate', 'euler_gamma', 'exp', 'exp2', 'expand_dims', 'expm1', 'extract', 'eye', 'fabs', 'fastCopyAndTranspose', 'fft', 'fill_diagonal', 'find_common_type', 'finfo', 'fix', 'flatiter', 'flatnonzero', 'flexible', 'flip', 'fliplr', 'flipud', 'float', 'float16', 'float32', 'float64', 'float_', 'float_power', 'floating', 'floor', 'floor_divide', 'fmax', 'fmin', 'fmod', 'format_float_positional', 'format_float_scientific', 'format_parser', 'frexp', 'frombuffer', 'fromfile', 'fromfunction', 'fromiter', 'frompyfunc', 'fromregex', 'fromstring', 'full', 'full_like', 'fv', 'gcd', 'generic', 'genfromtxt', 'geomspace', 'get_array_wrap', 'get_include', 'get_printoptions', 'getbufsize', 'geterr', 'geterrcall', 'geterrobj', 'gradient', 'greater', 'greater_equal', 'half', 'hamming', 'hanning', 'heaviside', 'histogram', 'histogram2d', 'histogram_bin_edges', 'histogramdd', 'hsplit', 'hstack', 'hypot', 'i0', 'identity', 'iinfo', 'imag', 'in1d', 'index_exp', 'indices', 'inexact', 'inf', 'info', 'infty', 'inner', 'insert', 'int', 'int0', 'int16', 'int32', 'int64', 'int8', 'int_', 'intc', 'integer', 'interp', 'intersect1d', 'intp', 'invert', 'ipmt', 'irr', 'is_busday', 'isclose', 'iscomplex', 'iscomplexobj', 'isfinite', 'isfortran', 'isin', 'isinf', 'isnan', 'isnat', 'isneginf', 'isposinf', 'isreal', 'isrealobj', 'isscalar', 'issctype', 'issubclass_', 'issubdtype', 'issubsctype', 'iterable', 'ix_', 'kaiser', 'kron', 'lcm', 'ldexp', 'left_shift', 'less', 'less_equal', 'lexsort', 'lib', 'linalg', 'linspace', 'little_endian', 'load', 'loads', 'loadtxt', 'log', 'log10', 'log1p', 'log2', 'logaddexp', 'logaddexp2', 'logical_and', 'logical_not', 'logical_or', 'logical_xor', 'logspace', 'long', 'longcomplex', 'longdouble', 'longfloat', 'longlong', 'lookfor', 'ma', 'mafromtxt', 'mask_indices', 'mat', 'math', 'matmul', 'matrix', 'matrixlib', 'max', 'maximum', 'maximum_sctype', 'may_share_memory', 'mean', 'median', 'memmap', 'meshgrid', 'mgrid', 'min', 'min_scalar_type', 'minimum', 'mintypecode', 'mirr', 'mkl', 'mod', 'modf', 'moveaxis', 'msort', 'multiply', 'nan', 'nan_to_num', 'nanargmax', 'nanargmin', 'nancumprod', 'nancumsum', 'nanmax', 'nanmean', 'nanmedian', 'nanmin', 'nanpercentile', 'nanprod', 'nanquantile', 'nanstd', 'nansum', 'nanvar', 'nbytes', 'ndarray', 'ndenumerate', 'ndfromtxt', 'ndim', 'ndindex', 'nditer', 'negative', 'nested_iters', 'newaxis', 'nextafter', 'nonzero', 'not_equal', 'nper', 'npv', 'numarray', 'number', 'obj2sctype', 'object', 'object0', 'object_', 'ogrid', 'oldnumeric', 'ones', 'ones_like', 'os', 'outer', 'packbits', 'pad', 'partition', 'percentile', 'pi', 'piecewise', 'place', 'pmt', 'poly', 'poly1d', 'polyadd', 'polyder', 'polydiv', 'polyfit', 'polyint', 'polymul', 'polynomial', 'polysub', 'polyval', 'positive', 'power', 'ppmt', 'printoptions', 'prod', 'product', 'promote_types', 'ptp', 'put', 'put_along_axis', 'putmask', 'pv', 'quantile', 'r_', 'rad2deg', 'radians', 'random', 'rate', 'ravel', 'ravel_multi_index', 'real', 'real_if_close', 'rec', 'recarray', 'recfromcsv', 'recfromtxt', 'reciprocal', 'record', 'remainder', 'repeat', 'require', 'reshape', 'resize', 'result_type', 'right_shift', 'rint', 'roll', 'rollaxis', 'roots', 'rot90', 'round', 'round_', 'row_stack', 's_', 'safe_eval', 'save', 'savetxt', 'savez', 'savez_compressed', 'sctype2char', 'sctypeDict', 'sctypeNA', 'sctypes', 'searchsorted', 'select', 'set_numeric_ops', 'set_printoptions', 'set_string_function', 'setbufsize', 'setdiff1d', 'seterr', 'seterrcall', 'seterrobj', 'setxor1d', 'shape', 'shares_memory', 'short', 'show_config', 'sign', 'signbit', 'signedinteger', 'sin', 'sinc', 'single', 'singlecomplex', 'sinh', 'size', 'sometrue', 'sort', 'sort_complex', 'source', 'spacing', 'split', 'sqrt', 'square', 'squeeze', 'stack', 'std', 'str', 'str0', 'str_', 'string_', 'subtract', 'sum', 'swapaxes', 'sys', 'take', 'take_along_axis', 'tan', 'tanh', 'tensordot', 'test', 'testing', 'tile', 'timedelta64', 'trace', 'tracemalloc_domain', 'transpose', 'trapz', 'tri', 'tril', 'tril_indices', 'tril_indices_from', 'trim_zeros', 'triu', 'triu_indices', 'triu_indices_from', 'true_divide', 'trunc', 'typeDict', 'typeNA', 'typecodes', 'typename', 'ubyte', 'ufunc', 'uint', 'uint0', 'uint16', 'uint32', 'uint64', 'uint8', 'uintc', 'uintp', 'ulonglong', 'unicode', 'unicode_', 'union1d', 'unique', 'unpackbits', 'unravel_index', 'unsignedinteger', 'unwrap', 'use_hugepage', 'ushort', 'vander', 'var', 'vdot', 'vectorize', 'version', 'void', 'void0', 'vsplit', 'vstack', 'warnings', 'where', 'who', 'zeros', 'zeros_like']\n"
     ]
    }
   ],
   "source": [
    "print(dir(np))"
   ]
  },
  {
   "cell_type": "code",
   "execution_count": 157,
   "metadata": {},
   "outputs": [
    {
     "name": "stdout",
     "output_type": "stream",
     "text": [
      "620\n"
     ]
    }
   ],
   "source": [
    "print(len(dir(np)))"
   ]
  },
  {
   "cell_type": "code",
   "execution_count": 158,
   "metadata": {},
   "outputs": [
    {
     "data": {
      "text/plain": [
       "'1.19.2'"
      ]
     },
     "execution_count": 158,
     "metadata": {},
     "output_type": "execute_result"
    }
   ],
   "source": [
    "np.__version__"
   ]
  },
  {
   "cell_type": "markdown",
   "metadata": {},
   "source": [
    "### filtering array"
   ]
  },
  {
   "cell_type": "code",
   "execution_count": 161,
   "metadata": {},
   "outputs": [
    {
     "name": "stdout",
     "output_type": "stream",
     "text": [
      "[1 3 5]\n"
     ]
    }
   ],
   "source": [
    "import numpy as np\n",
    "ary=np.array([1,2,3,4,5])\n",
    "x=[True,False,True,False,True]\n",
    "nary=ary[x]\n",
    "print(nary)"
   ]
  },
  {
   "cell_type": "code",
   "execution_count": 162,
   "metadata": {},
   "outputs": [
    {
     "name": "stdout",
     "output_type": "stream",
     "text": [
      "[2]\n",
      "[False  True False]\n"
     ]
    }
   ],
   "source": [
    "a=np.array([1,2,3])\n",
    "f=a%2==0\n",
    "n=a[f]\n",
    "print(n)\n",
    "print(f)"
   ]
  },
  {
   "cell_type": "code",
   "execution_count": 163,
   "metadata": {},
   "outputs": [
    {
     "name": "stdout",
     "output_type": "stream",
     "text": [
      "[1]\n",
      "[ True False False]\n"
     ]
    }
   ],
   "source": [
    "a=np.array([1,2,4])\n",
    "f=a%2==1\n",
    "n=a[f]\n",
    "print(n)\n",
    "print(f)"
   ]
  },
  {
   "cell_type": "markdown",
   "metadata": {},
   "source": [
    "### statistical"
   ]
  },
  {
   "cell_type": "code",
   "execution_count": 164,
   "metadata": {},
   "outputs": [
    {
     "data": {
      "text/plain": [
       "array([[3, 7, 5],\n",
       "       [2, 3, 4]])"
      ]
     },
     "execution_count": 164,
     "metadata": {},
     "output_type": "execute_result"
    }
   ],
   "source": [
    "q=np.array([[3,7,5],[2,3,4]])\n",
    "q"
   ]
  },
  {
   "cell_type": "code",
   "execution_count": 165,
   "metadata": {},
   "outputs": [
    {
     "name": "stdout",
     "output_type": "stream",
     "text": [
      "[7 4]\n"
     ]
    }
   ],
   "source": [
    "print(np.amax(q,1))"
   ]
  },
  {
   "cell_type": "code",
   "execution_count": 166,
   "metadata": {},
   "outputs": [
    {
     "name": "stdout",
     "output_type": "stream",
     "text": [
      "[7 4]\n",
      "[3 7 5]\n",
      "[3 2]\n",
      "[2 3 4]\n"
     ]
    }
   ],
   "source": [
    "print(np.amax(q,1))\n",
    "print(np.amax(q,0))\n",
    "print(np.amin(q,1))\n",
    "print(np.amin(q,0))"
   ]
  },
  {
   "cell_type": "code",
   "execution_count": null,
   "metadata": {},
   "outputs": [],
   "source": []
  }
 ],
 "metadata": {
  "kernelspec": {
   "display_name": "Python 3",
   "language": "python",
   "name": "python3"
  },
  "language_info": {
   "codemirror_mode": {
    "name": "ipython",
    "version": 3
   },
   "file_extension": ".py",
   "mimetype": "text/x-python",
   "name": "python",
   "nbconvert_exporter": "python",
   "pygments_lexer": "ipython3",
   "version": "3.8.5"
  }
 },
 "nbformat": 4,
 "nbformat_minor": 4
}
